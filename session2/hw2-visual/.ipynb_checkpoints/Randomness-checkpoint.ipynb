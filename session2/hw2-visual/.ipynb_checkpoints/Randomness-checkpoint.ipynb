{
 "cells": [
  {
   "cell_type": "markdown",
   "metadata": {},
   "source": [
    "A simple function to count the number of occurrences with different approaches to random shuffling.  One bad and the other is Fisher Yates."
   ]
  },
  {
   "cell_type": "code",
   "execution_count": 2,
   "metadata": {},
   "outputs": [
    {
     "ename": "NameError",
     "evalue": "name 'fischerYates' is not defined",
     "output_type": "error",
     "traceback": [
      "\u001b[0;31m---------------------------------------------------------------------------\u001b[0m",
      "\u001b[0;31mNameError\u001b[0m                                 Traceback (most recent call last)",
      "\u001b[0;32m<ipython-input-2-a7df4180747c>\u001b[0m in \u001b[0;36m<module>\u001b[0;34m()\u001b[0m\n\u001b[1;32m     31\u001b[0m \u001b[0mlst\u001b[0m \u001b[0;34m=\u001b[0m \u001b[0mrange\u001b[0m\u001b[0;34m(\u001b[0m\u001b[0;36m1\u001b[0m\u001b[0;34m,\u001b[0m \u001b[0;36m21\u001b[0m\u001b[0;34m)\u001b[0m \u001b[0;31m#numbers 1 to 20\u001b[0m\u001b[0;34m\u001b[0m\u001b[0m\n\u001b[1;32m     32\u001b[0m \u001b[0munfair\u001b[0m \u001b[0;34m=\u001b[0m \u001b[0mtrial_matrix\u001b[0m\u001b[0;34m(\u001b[0m\u001b[0mlst\u001b[0m\u001b[0;34m,\u001b[0m \u001b[0munfairShuffle\u001b[0m\u001b[0;34m,\u001b[0m \u001b[0;36m1000000\u001b[0m\u001b[0;34m)\u001b[0m \u001b[0;31m#run for a million\u001b[0m\u001b[0;34m\u001b[0m\u001b[0m\n\u001b[0;32m---> 33\u001b[0;31m \u001b[0myates\u001b[0m \u001b[0;34m=\u001b[0m \u001b[0mtrial_matrix\u001b[0m\u001b[0;34m(\u001b[0m\u001b[0mlst\u001b[0m\u001b[0;34m,\u001b[0m \u001b[0mfischerYates\u001b[0m\u001b[0;34m,\u001b[0m \u001b[0;36m1000000\u001b[0m\u001b[0;34m)\u001b[0m\u001b[0;34m\u001b[0m\u001b[0m\n\u001b[0m",
      "\u001b[0;31mNameError\u001b[0m: name 'fischerYates' is not defined"
     ]
    }
   ],
   "source": [
    "import random\n",
    "import numpy as np\n",
    "\n",
    "def swap(lst, ind1, ind2):\n",
    "    temp = lst[ind1]\n",
    "    lst[ind1] = lst[ind2]\n",
    "    lst[ind2] = temp\n",
    "\n",
    "def unfairShuffle(lst):\n",
    "    for i, el in enumerate(lst):\n",
    "        randomIndex = random.randint(0, len(lst) - 1) #for some reason it's inclusive\n",
    "        swap(lst, i, randomIndex)\n",
    "    return lst\n",
    "\n",
    "def fisherYates(lst):\n",
    "    for i in range(len(lst) - 1, 0, -1):\n",
    "        randomIndex = random.randint(0, i)\n",
    "        swap(lst, i, randomIndex)\n",
    "    return lst\n",
    "\n",
    "def trial_matrix(lst, func, numberOfTrials):\n",
    "    #setup a matrix to hold results\n",
    "    matrix = np.zeros(shape=(len(lst), len(lst)))\n",
    "    #run the trials\n",
    "    for i in range(numberOfTrials):\n",
    "        result = func(lst[:])\n",
    "        for j, number in enumerate(result):\n",
    "            matrix[number - 1][j] += 1\n",
    "    return matrix\n",
    "\n",
    "lst = range(1, 21) #numbers 1 to 20\n",
    "unfair = trial_matrix(lst, unfairShuffle, 1000000) #run for a million\n",
    "yates = trial_matrix(lst, fisherYates, 1000000)"
   ]
  },
  {
   "cell_type": "code",
   "execution_count": null,
   "metadata": {},
   "outputs": [],
   "source": [
    "import matplotlib.pyplot as plt\n",
    "\n",
    "numberOfBins = len(lst)\n",
    "indices = np.arange(numberOfBins)\n",
    "\n",
    "def form_chart(matrix):\n",
    "    plt.bar(indices, matrix[0], label=\"1\")\n",
    "    y_buildup = matrix[0][:]\n",
    "\n",
    "    for i in range(1, numberOfBins):\n",
    "        plt.bar(indices, matrix[i], bottom=y_buildup, label=\"{}\".format(i + 1))\n",
    "        for j in range(0, numberOfBins):\n",
    "            y_buildup[j] += matrix[i][j]"
   ]
  },
  {
   "cell_type": "code",
   "execution_count": null,
   "metadata": {},
   "outputs": [],
   "source": [
    "form_chart(unfair)\n",
    "plt.ylabel('Occurrences')\n",
    "plt.xlabel('Index')\n",
    "plt.title('Index distrubution of numbers in unfair method')\n",
    "plt.xticks(indices, range(numberOfBins))\n",
    "plt.legend(bbox_to_anchor=(1.04, 1))\n",
    "plt.savefig('unfair.png')\n",
    "plt.show()"
   ]
  },
  {
   "cell_type": "code",
   "execution_count": null,
   "metadata": {},
   "outputs": [],
   "source": [
    "form_chart(yates)\n",
    "plt.ylabel('Occurrences')\n",
    "plt.xlabel('Index')\n",
    "plt.title('Index distrubution of numbers in Fisher Yates method')\n",
    "plt.xticks(indices, range(numberOfBins))\n",
    "plt.legend(bbox_to_anchor=(1.04, 1))\n",
    "plt.savefig('yates.png')\n",
    "plt.show()"
   ]
  }
 ],
 "metadata": {
  "kernelspec": {
   "display_name": "Python 3",
   "language": "python",
   "name": "python3"
  },
  "language_info": {
   "codemirror_mode": {
    "name": "ipython",
    "version": 2
   },
   "file_extension": ".py",
   "mimetype": "text/x-python",
   "name": "python",
   "nbconvert_exporter": "python",
   "pygments_lexer": "ipython2",
   "version": "2.7.12"
  }
 },
 "nbformat": 4,
 "nbformat_minor": 2
}
