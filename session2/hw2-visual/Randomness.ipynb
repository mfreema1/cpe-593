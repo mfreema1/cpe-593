{
 "cells": [
  {
   "cell_type": "markdown",
   "metadata": {},
   "source": [
    "A simple function to count the number of occurrences with different approaches to random shuffling.  One bad and the other is Fisher Yates."
   ]
  },
  {
   "cell_type": "code",
   "execution_count": null,
   "metadata": {},
   "outputs": [],
   "source": [
    "from collections import Counter\n",
    "import random\n",
    "import numpy as np\n",
    "\n",
    "def swap(lst, ind1, ind2):\n",
    "    temp = lst[ind1]\n",
    "    lst[ind1] = lst[ind2]\n",
    "    lst[ind2] = temp\n",
    "\n",
    "def unfairShuffle(lst):\n",
    "    for i, el in enumerate(lst):\n",
    "        randomIndex = random.randint(0, len(lst) - 1) #for some reason it's inclusive\n",
    "        swap(lst, i, randomIndex)\n",
    "    return lst\n",
    "\n",
    "def fisherYates(lst):\n",
    "    for i in range(len(lst) - 1, 0, -1):\n",
    "        randomIndex = random.randint(0, i)\n",
    "        swap(lst, i, randomIndex)\n",
    "    return lst\n",
    "\n",
    "def trial_matrix(lst, func, numberOfTrials = 100000):\n",
    "    #setup a matrix to hold results\n",
    "    matrix = np.zeros(shape=(len(lst), len(lst)))\n",
    "    #run the trials\n",
    "    for i in range(numberOfTrials):\n",
    "        result = func(lst[:])\n",
    "        for j, number in enumerate(result):\n",
    "            matrix[number - 1][j] += 1\n",
    "    return matrix\n",
    "\n",
    "lst = [1,2,3,4,5,6,7,8,9,10]\n",
    "unfair = trial_matrix(lst, unfairShuffle, 1000000) #run for a million this time\n",
    "yates = trial_matrix(lst, fischerYates, 1000000)\n"
   ]
  },
  {
   "cell_type": "code",
   "execution_count": null,
   "metadata": {},
   "outputs": [],
   "source": [
    "import matplotlib.pyplot as plt\n",
    "\n",
    "numberOfBins = 10\n",
    "indices = np.arange(numberOfBins)\n",
    "\n",
    "def form_chart(matrix):\n",
    "    plt.bar(indices, matrix[0], label=\"1\")\n",
    "    y_buildup = matrix[0][:]\n",
    "\n",
    "    for i in range(1, numberOfBins):\n",
    "        plt.bar(indices, matrix[i], bottom=y_buildup, label=\"{}\".format(i + 1))\n",
    "        for j in range(0, numberOfBins):\n",
    "            y_buildup[j] += matrix[i][j]"
   ]
  },
  {
   "cell_type": "code",
   "execution_count": null,
   "metadata": {},
   "outputs": [],
   "source": [
    "form_chart(unfair)\n",
    "plt.ylabel('Occurrences')\n",
    "plt.xlabel('Index')\n",
    "plt.title('Index distrubution of numbers in unfair method')\n",
    "plt.xticks(indices, range(numberOfBins))\n",
    "plt.legend(bbox_to_anchor=(1.04, 1))\n",
    "plt.savefig('unfair.png')\n",
    "plt.show()"
   ]
  },
  {
   "cell_type": "code",
   "execution_count": null,
   "metadata": {},
   "outputs": [],
   "source": [
    "form_chart(yates)\n",
    "plt.ylabel('Occurrences')\n",
    "plt.xlabel('Index')\n",
    "plt.title('Index distrubution of numbers in Fisher Yates method')\n",
    "plt.xticks(indices, range(numberOfBins))\n",
    "plt.legend(bbox_to_anchor=(1.04, 1))\n",
    "plt.savefig('yates.png')\n",
    "plt.show()"
   ]
  }
 ],
 "metadata": {
  "kernelspec": {
   "display_name": "Python 3",
   "language": "python",
   "name": "python3"
  },
  "language_info": {
   "codemirror_mode": {
    "name": "ipython",
    "version": 2
   },
   "file_extension": ".py",
   "mimetype": "text/x-python",
   "name": "python",
   "nbconvert_exporter": "python",
   "pygments_lexer": "ipython2",
   "version": "2.7.12"
  }
 },
 "nbformat": 4,
 "nbformat_minor": 2
}
